{
 "cells": [
  {
   "cell_type": "markdown",
   "id": "80ac1ba7-ef6e-4d8c-a0e6-39c5ac0a7836",
   "metadata": {},
   "source": [
    "## Ejercicio 1: \n",
    "#### Copie el texto del Zen de Python en una variable e imprima todas las líneas cuya segunda palabra comience con una vocal (A, E, I, O, U, a, e, i, o, u).\n",
    "#### El Zen de Python es una colección de principios que guían la filosofía de diseño de Python, escrita en forma de aforismos. Resalta la simplicidad, legibilidad y claridad en el código."
   ]
  },
  {
   "cell_type": "code",
   "execution_count": null,
   "id": "7bd352ee-4fa8-463c-87e2-9edb68b3738c",
   "metadata": {},
   "outputs": [],
   "source": [
    "zen = \"\"\"Beautiful is better than ugly.\n",
    "Explicit is better than implicit.\n",
    "Simple is better than complex.\n",
    "Complex is better than complicated.\n",
    "Flat is better than nested.\n",
    "Sparse is better than dense.\n",
    "Readability counts.\n",
    "Special cases aren't special enough to break the rules.\n",
    "Although practicality beats purity.\n",
    "Errors should never pass silently.\n",
    "Unless explicitly silenced.\n",
    "In the face of ambiguity, refuse the temptation to guess.\n",
    "There should be one-- and preferably only one --obvious way to do it.\n",
    "Although that way may not be obvious at first unless you're Dutch.\n",
    "Now is better than never.\n",
    "Although never is often better than *right* now.\n",
    "If the implementation is hard to explain, it's a bad idea.\n",
    "If the implementation is easy to explain, it may be a good idea.\n",
    "Namespaces are one honking great idea -- let's do more of those!\"\"\"\n",
    "\n",
    "vocales = (\"A\",\"E\",\"I\",\"O\",\"U\",\"a\",\"e\",\"i\",\"o\",\"u\")\n",
    "\n",
    "lista = zen.split(\".\")\n",
    "for linea in lista:\n",
    "    if linea.split( )[1].startswith(vocales):\n",
    "        print(linea)"
   ]
  },
  {
   "cell_type": "markdown",
   "id": "821d93b4-6be9-4098-a879-fc7e7f316fa0",
   "metadata": {},
   "source": [
    "## Ejercicio 2:\n",
    "#### Encuentre el título con más palabras y muéstrelo en pantalla."
   ]
  },
  {
   "cell_type": "code",
   "execution_count": null,
   "id": "e799ad0a-0e91-4453-9178-a0ca11c523e5",
   "metadata": {
    "scrolled": true
   },
   "outputs": [],
   "source": [
    "from src.funciones import contar_palabras\n",
    "\n",
    "titles = [\n",
    "\"Speedrun de Super Mario en tiempo récord\",\n",
    "\"Charla sobre desarrollo de videojuegos\",\n",
    "\"Jugando al nuevo FPS del momento con amigos\",\n",
    "\"Música en vivo: improvisaciones al piano\"\n",
    "]\n",
    "\n",
    "max = -1\n",
    "for title in titles:\n",
    "    cant = contar_palabras(title)\n",
    "    if(cant>max):\n",
    "        max = cant\n",
    "        cadena_maxima = title\n",
    "print(f\"El título más largo es: {cadena_maxima}\")"
   ]
  },
  {
   "cell_type": "markdown",
   "id": "d14785ea-3de6-481e-85ad-88efbdadae98",
   "metadata": {},
   "source": [
    "## Ejercicio 3:\n",
    "#### Dado un código de conducta para un servidor de Discord:\n",
    "#### Solicite una palabra clave al usuario e imprima todas las reglas que la contengan."
   ]
  },
  {
   "cell_type": "code",
   "execution_count": null,
   "id": "dc96484c-8956-4c74-bcd4-0f78444e3494",
   "metadata": {},
   "outputs": [],
   "source": [
    "rules = \"\"\"Respeta a los demás. No se permiten insultos ni lenguaje ofensivo.\n",
    "Evita el spam. No publiques enlaces sospechosos o repetitivos.\n",
    "No compartas información personal.\n",
    "Usa los canales adecuados para cada tema.\n",
    "Sigue las instrucciones de los moderadores.\"\"\"\n",
    "\n",
    "clave = input(\"Ingrese una palabra clave: \")+\" \"\n",
    "lista = rules.split(\".\")\n",
    "for cadena in lista:\n",
    "    if(clave in cadena):\n",
    "        print(cadena)"
   ]
  },
  {
   "cell_type": "markdown",
   "id": "5b0a2bc5-03f8-42b4-a61d-beb61d7ea512",
   "metadata": {},
   "source": [
    "## Ejercicio 4:\n",
    "#### Valide un nombre de usuario con los siguientes criterios:\n",
    "* Al menos 5 caracteres.\n",
    "* Contiene al menos un número.\n",
    "* Contiene al menos una letra mayúscula.\n",
    "* Solo puede contener letras y números."
   ]
  },
  {
   "cell_type": "code",
   "execution_count": null,
   "id": "7cb7debf-565b-4196-9412-54ee26620202",
   "metadata": {},
   "outputs": [],
   "source": []
  },
  {
   "cell_type": "markdown",
   "id": "f430034f-fbea-46d6-9c1b-88e818691d10",
   "metadata": {},
   "source": [
    "## Ejercicio 5:\n",
    "#### Clasificación de velocidad de reacción en un juego\n",
    "#### Dado el tiempo de reacción de un jugador en milisegundos, clasifíquelo en las siguientes\n",
    "**categorías:**\n",
    "* Menos de 200 ms: Rápido\n",
    "* Entre 200 y 500 ms: Normal\n",
    "* Más de 500 ms: Lento"
   ]
  },
  {
   "cell_type": "code",
   "execution_count": null,
   "id": "16c8f7d2-e754-45f3-bec0-a03948a2b34a",
   "metadata": {},
   "outputs": [],
   "source": [
    "tiempo = int(input(\"Ingrese su tiempo reacción en ms:\"))\n",
    "\n",
    "if tiempo < 200: categoria = \"Rápidio\"  \n",
    "elif tiempo > 200 and tiempo < 500: categoria =\"Normal\"\n",
    "elif tiempo > 500: categoria = \"Lento\"\n",
    "else: categoria = \"No cumple\"\n",
    "print(f\"categoría: {categoria}\")"
   ]
  },
  {
   "cell_type": "markdown",
   "id": "773a3089-9ad2-4ae0-aa12-d3c1a048740f",
   "metadata": {},
   "source": [
    "## Ejercicio 6:\n",
    "#### Dadas varias descripciones de streams en Twitch, cuente cuántas menciones hay de:\n",
    "*\"entretenimiento\"*, *\"música\"* y *\"charla\".*"
   ]
  },
  {
   "cell_type": "code",
   "execution_count": null,
   "id": "1f0f2391-894e-498f-a929-fee9f1f9263b",
   "metadata": {},
   "outputs": [],
   "source": [
    "from src.funciones import contar_ocurrencias\n",
    "\n",
    "descriptions = [\n",
    "\"Streaming de música en vivo con covers y composiciones\",\n",
    "\"Charla interactiva con la audiencia sobre series y películas\",\n",
    "\"Jugamos a juegos retro y charlamos sobre su historia\",\n",
    "\"Exploramos la mejor música de los 80s y 90s\",\n",
    "\"Programa de entretenimiento con noticias y curiosidades del mundo gamer\",\n",
    "\"Sesión de charla con invitados especiales del mundo del streaming\",\n",
    "\"Música en directo con improvisaciones y peticiones del chat\",\n",
    "\"Un espacio para charlar relajada sobre tecnología y cultura digital\",\n",
    "\"Exploramos el impacto de la música en los videojuegos clásicos\"\n",
    "]\n",
    "\n",
    "contador = contar_ocurrencias(descriptions)\n",
    "for palabra, elemento in contador.items():\n",
    "    print(f\"Menciones de {palabra}: {elemento}\")"
   ]
  },
  {
   "cell_type": "markdown",
   "id": "ebc1d339-e04e-48d8-8eae-3369fe7f1be6",
   "metadata": {},
   "source": [
    "## Ejercicio 7:\n",
    "#### Genere un código de descuento aleatorio para un usuario en base a su nombre, la fecha actual y el resto deben ser números o letras aleatorias. El código debe tener una longitud de 30 caracteres, todas las letras deben ser mayúsculas.\n",
    "#### El usuario debe ingresarse por teclado y debe validar que no exeda los 15 caracteres."
   ]
  },
  {
   "cell_type": "code",
   "execution_count": null,
   "id": "2ff636fb-5901-4a77-9f83-d0765e2a061b",
   "metadata": {},
   "outputs": [],
   "source": [
    "from src.funciones import crear_codigo\n",
    "\n",
    "nombre = input(\"Ingrese su nombre: \").upper()\n",
    "fecha = (input(\"Ingrese la fecha actual separada por guiones(-): \"))\n",
    "fecha = fecha.replace(\"-\", \"\")\n",
    "\n",
    "codigo = crear_codigo(nombre,fecha)\n",
    "print(f\"Código de descuento: {codigo}\")"
   ]
  },
  {
   "cell_type": "markdown",
   "id": "7fa05eb4-5748-40b5-98e4-1802896a99f6",
   "metadata": {},
   "source": [
    "## Ejercicio 8:\n",
    "#### Determine si dos palabras ingresadas son anagramas (contienen las mismas letras en diferente orden)."
   ]
  },
  {
   "cell_type": "code",
   "execution_count": null,
   "id": "a763d5b6-b5f2-4821-a408-d5b4a413cff5",
   "metadata": {},
   "outputs": [],
   "source": [
    "from src.funciones import son_anagramas\n",
    "\n",
    "palabra1 = input(\"Ingrese la primera palabra: \").lower()\n",
    "palabra2 = input(\"Inrgese la segunda palabre: \").lower()\n",
    "\n",
    "print(\"Son anagrámas\") if son_anagramas(palabra1,palabra2) else print(\"No son anagrámas\")"
   ]
  },
  {
   "cell_type": "markdown",
   "id": "15dbaea5-fef0-4fdc-bfab-b0fa4208e1e5",
   "metadata": {},
   "source": [
    "# Ejercicio 9:\n",
    "#### Limpieza de Datos para un Sistema de Clientes\n",
    "#### Eres un analista de datos en una empresa que ha recibido una lista de nombres de clientes de distintas fuentes.\n",
    "#### Sin embargo, estos datos contienen errores, espacios en blanco, nombres repetidos y valores nulos.\n",
    "#### Tu tarea es desarrollar un sistema que limpie y estandarice estos datos para poder usarlos en el sistema de facturación.\n",
    "#### Datos de entrada\n",
    "#### La empresa ha recopilado nombres de clientes desde diferentes formularios, bases de datos y registros manuales.\n",
    "### Desarrollar un sistema que permita realizar las siguientes operaciones en los datos:\n",
    "* Eliminar espacios extra en los nombres.\n",
    "* Convertir todos los nombres a formato de título (primera letra en mayúscula y el resto en minúscula).\n",
    "* Eliminar registros duplicados para evitar clientes repetidos.\n",
    "* Eliminar valores vacíos o nulos, ya que no aportan información válida.\n",
    "* Mostrar la lista limpia de clientes listos para usar en el sistema de facturación."
   ]
  },
  {
   "cell_type": "code",
   "execution_count": null,
   "id": "0a8ec88d-56a2-405f-bb73-7fbefede2837",
   "metadata": {},
   "outputs": [],
   "source": []
  },
  {
   "cell_type": "markdown",
   "id": "cac000eb-12c3-4fed-b131-83ce6d5a390e",
   "metadata": {},
   "source": [
    "## Ejercicio 10:\n",
    "#### Imprima las tablas de resultados luego de la inserción de cada una de las rondas pudiendo ver el progreso en el equipo.\n",
    "#### Además cada ronda debe tener un MVP (Mejor Jugador del Partido/ronda) basado en su puntuación. La cantidad de veces que el jugador ha sido MVP también se debe contabilizar.\n",
    "#### Se debe imprimir el total de kills, asistencias, muertes, cantidad de MVP y puntos totales. La tabla tienen que estar en orden decreciente por los puntos totales."
   ]
  },
  {
   "cell_type": "code",
   "execution_count": null,
   "id": "b1f33e63-8bc6-418c-ad78-878efb6e08e9",
   "metadata": {},
   "outputs": [],
   "source": [
    "from src.funciones import actualizar_ronda\n",
    "from src.funciones import puntos_ronda\n",
    "from src.funciones import imprimir_ronda\n",
    "\n",
    "rounds = [\n",
    "{\n",
    "'Shadow': {'kills': 2, 'assists': 1, 'deaths': True},\n",
    "'Blaze': {'kills': 1, 'assists': 0, 'deaths': False}, \n",
    "'Viper': {'kills': 1, 'assists': 2, 'deaths': True},\n",
    "'Frost': {'kills': 0, 'assists': 1, 'deaths': False},\n",
    "'Reaper': {'kills': 1, 'assists': 1, 'deaths': False}\n",
    "},\n",
    "{\n",
    "'Shadow': {'kills': 0, 'assists': 2, 'deaths': False},\n",
    "'Blaze': {'kills': 2, 'assists': 0, 'deaths': True},\n",
    "'Viper': {'kills': 1, 'assists': 1, 'deaths': False},\n",
    "'Frost': {'kills': 2, 'assists': 1, 'deaths': True},\n",
    "'Reaper': {'kills': 0, 'assists': 1, 'deaths': False}\n",
    "},\n",
    "{\n",
    "'Shadow': {'kills': 1, 'assists': 0, 'deaths': False},\n",
    "'Blaze': {'kills': 2, 'assists': 2, 'deaths': True},\n",
    "'Viper': {'kills': 1, 'assists': 1, 'deaths': True},\n",
    "'Frost': {'kills': 0, 'assists': 1, 'deaths': False},\n",
    "'Reaper': {'kills': 1, 'assists': 1, 'deaths': False}\n",
    "},\n",
    "{\n",
    "'Shadow': {'kills': 2, 'assists': 1, 'deaths': False},\n",
    "'Blaze': {'kills': 1, 'assists': 0, 'deaths': True},\n",
    "'Viper': {'kills': 0, 'assists': 2, 'deaths': False},\n",
    "'Frost': {'kills': 1, 'assists': 1, 'deaths': True},\n",
    "'Reaper': {'kills': 1, 'assists': 1, 'deaths': False}\n",
    "},\n",
    "{\n",
    "'Shadow': {'kills': 1, 'assists': 2, 'deaths': True},\n",
    "'Blaze': {'kills': 0, 'assists': 1, 'deaths': False},\n",
    "'Viper': {'kills': 2, 'assists': 0, 'deaths': True},\n",
    "'Frost': {'kills': 1, 'assists': 1, 'deaths': False},\n",
    "'Reaper': {'kills': 1, 'assists': 1, 'deaths': True}\n",
    "}\n",
    "]\n",
    "\n",
    "\n",
    "ronda = {\n",
    "    'Shadow': {'kills': 0, 'assists': 0, 'deaths': 0, 'puntos':0, 'MVPs':0},\n",
    "    'Blaze': {'kills': 0, 'assists': 0, 'deaths': 0, 'puntos':0, 'MVPs':0},\n",
    "    'Viper': {'kills': 0, 'assists': 0, 'deaths': 0, 'puntos':0, 'MVPs':0},\n",
    "    'Frost': {'kills': 0, 'assists': 0, 'deaths': 0, 'puntos':0, 'MVPs':0},\n",
    "    'Reaper': {'kills': 0, 'assists': 0, 'deaths': 0, 'puntos':0, 'MVPs':0}\n",
    "}\n",
    "\n",
    "for ronda_n ,round in enumerate(rounds, 1):\n",
    "    mvp = actualizar_ronda(round,ronda)\n",
    "    ronda[mvp]['MVPs'] +=1\n",
    "    ronda_ordenada = sorted(ronda.items(), key=puntos_ronda, reverse=True)\n",
    "    imprimir_ronda(ronda_ordenada,ronda_n,mvp)"
   ]
  }
 ],
 "metadata": {
  "kernelspec": {
   "display_name": "Python 3 (ipykernel)",
   "language": "python",
   "name": "python3"
  },
  "language_info": {
   "codemirror_mode": {
    "name": "ipython",
    "version": 3
   },
   "file_extension": ".py",
   "mimetype": "text/x-python",
   "name": "python",
   "nbconvert_exporter": "python",
   "pygments_lexer": "ipython3",
   "version": "3.12.9"
  }
 },
 "nbformat": 4,
 "nbformat_minor": 5
}
